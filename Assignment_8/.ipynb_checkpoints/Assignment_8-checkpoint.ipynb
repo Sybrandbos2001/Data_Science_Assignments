{
 "cells": [
  {
   "cell_type": "markdown",
   "id": "7837a100",
   "metadata": {},
   "source": [
    "### Portfolio assignment 8\n",
    "15 min: \n",
    "- Calculate the 90%, 95%, 99% and 99.99% confidence interval for at least 2 columns with numerical data in the dataset that you chose in portfolio assignment 4. Do you see the impact the confidence has on the interval?\n",
    "- Now calculate the 95% confidence interval again but use only the first 10% of your rows. Compare this interval to the previous 95% confidence interval you calculated. Do you see the impact of having less data?"
   ]
  },
  {
   "cell_type": "code",
   "execution_count": 39,
   "id": "8de3f271",
   "metadata": {},
   "outputs": [],
   "source": [
    "import scipy.stats as "
   ]
  },
  {
   "cell_type": "code",
   "execution_count": 40,
   "id": "342ed471",
   "metadata": {},
   "outputs": [],
   "source": [
    "Pokemon = pd.read_csv(\"Pokemon.csv\", sep=\";\")"
   ]
  },
  {
   "cell_type": "code",
   "execution_count": 41,
   "id": "01c30273",
   "metadata": {},
   "outputs": [
    {
     "data": {
      "text/html": [
       "<div>\n",
       "<style scoped>\n",
       "    .dataframe tbody tr th:only-of-type {\n",
       "        vertical-align: middle;\n",
       "    }\n",
       "\n",
       "    .dataframe tbody tr th {\n",
       "        vertical-align: top;\n",
       "    }\n",
       "\n",
       "    .dataframe thead th {\n",
       "        text-align: right;\n",
       "    }\n",
       "</style>\n",
       "<table border=\"1\" class=\"dataframe\">\n",
       "  <thead>\n",
       "    <tr style=\"text-align: right;\">\n",
       "      <th></th>\n",
       "      <th>abilities</th>\n",
       "      <th>against_bug</th>\n",
       "      <th>against_dark</th>\n",
       "      <th>against_dragon</th>\n",
       "      <th>against_electric</th>\n",
       "      <th>against_fairy</th>\n",
       "      <th>against_fight</th>\n",
       "      <th>against_fire</th>\n",
       "      <th>against_flying</th>\n",
       "      <th>against_ghost</th>\n",
       "      <th>...</th>\n",
       "      <th>percentage_male</th>\n",
       "      <th>pokedex_number</th>\n",
       "      <th>sp_attack</th>\n",
       "      <th>sp_defense</th>\n",
       "      <th>speed</th>\n",
       "      <th>type1</th>\n",
       "      <th>type2</th>\n",
       "      <th>weight_kg</th>\n",
       "      <th>generation</th>\n",
       "      <th>is_legendary</th>\n",
       "    </tr>\n",
       "  </thead>\n",
       "  <tbody>\n",
       "    <tr>\n",
       "      <th>0</th>\n",
       "      <td>['Rock Head', 'Sturdy', 'Sand Veil', 'Magnet P...</td>\n",
       "      <td>1</td>\n",
       "      <td>1</td>\n",
       "      <td>1</td>\n",
       "      <td>0</td>\n",
       "      <td>1</td>\n",
       "      <td>2</td>\n",
       "      <td>5</td>\n",
       "      <td>5</td>\n",
       "      <td>1</td>\n",
       "      <td>...</td>\n",
       "      <td>50</td>\n",
       "      <td>74</td>\n",
       "      <td>30</td>\n",
       "      <td>30</td>\n",
       "      <td>20</td>\n",
       "      <td>rock</td>\n",
       "      <td>ground</td>\n",
       "      <td>0</td>\n",
       "      <td>1</td>\n",
       "      <td>0</td>\n",
       "    </tr>\n",
       "    <tr>\n",
       "      <th>1</th>\n",
       "      <td>['Stench', 'Sticky Hold', 'Poison Touch', 'Poi...</td>\n",
       "      <td>5</td>\n",
       "      <td>1</td>\n",
       "      <td>1</td>\n",
       "      <td>1</td>\n",
       "      <td>5</td>\n",
       "      <td>5</td>\n",
       "      <td>1</td>\n",
       "      <td>1</td>\n",
       "      <td>1</td>\n",
       "      <td>...</td>\n",
       "      <td>50</td>\n",
       "      <td>88</td>\n",
       "      <td>40</td>\n",
       "      <td>50</td>\n",
       "      <td>25</td>\n",
       "      <td>poison</td>\n",
       "      <td>poison</td>\n",
       "      <td>0</td>\n",
       "      <td>1</td>\n",
       "      <td>0</td>\n",
       "    </tr>\n",
       "    <tr>\n",
       "      <th>2</th>\n",
       "      <td>['Rock Head', 'Sturdy', 'Sand Veil', 'Magnet P...</td>\n",
       "      <td>1</td>\n",
       "      <td>1</td>\n",
       "      <td>1</td>\n",
       "      <td>0</td>\n",
       "      <td>1</td>\n",
       "      <td>2</td>\n",
       "      <td>5</td>\n",
       "      <td>5</td>\n",
       "      <td>1</td>\n",
       "      <td>...</td>\n",
       "      <td>50</td>\n",
       "      <td>75</td>\n",
       "      <td>45</td>\n",
       "      <td>45</td>\n",
       "      <td>35</td>\n",
       "      <td>rock</td>\n",
       "      <td>ground</td>\n",
       "      <td>0</td>\n",
       "      <td>1</td>\n",
       "      <td>0</td>\n",
       "    </tr>\n",
       "    <tr>\n",
       "      <th>3</th>\n",
       "      <td>['Sand Veil', 'Sand Rush', 'Snow Cloak', 'Slus...</td>\n",
       "      <td>1</td>\n",
       "      <td>1</td>\n",
       "      <td>1</td>\n",
       "      <td>0</td>\n",
       "      <td>1</td>\n",
       "      <td>1</td>\n",
       "      <td>1</td>\n",
       "      <td>1</td>\n",
       "      <td>1</td>\n",
       "      <td>...</td>\n",
       "      <td>50</td>\n",
       "      <td>27</td>\n",
       "      <td>10</td>\n",
       "      <td>35</td>\n",
       "      <td>40</td>\n",
       "      <td>ground</td>\n",
       "      <td>ice</td>\n",
       "      <td>0</td>\n",
       "      <td>1</td>\n",
       "      <td>0</td>\n",
       "    </tr>\n",
       "    <tr>\n",
       "      <th>4</th>\n",
       "      <td>['Chlorophyll', 'Harvest', 'Frisk', 'Harvest']</td>\n",
       "      <td>4</td>\n",
       "      <td>2</td>\n",
       "      <td>1</td>\n",
       "      <td>5</td>\n",
       "      <td>1</td>\n",
       "      <td>5</td>\n",
       "      <td>2</td>\n",
       "      <td>2</td>\n",
       "      <td>2</td>\n",
       "      <td>...</td>\n",
       "      <td>50</td>\n",
       "      <td>103</td>\n",
       "      <td>125</td>\n",
       "      <td>75</td>\n",
       "      <td>45</td>\n",
       "      <td>grass</td>\n",
       "      <td>psychic</td>\n",
       "      <td>0</td>\n",
       "      <td>1</td>\n",
       "      <td>0</td>\n",
       "    </tr>\n",
       "  </tbody>\n",
       "</table>\n",
       "<p>5 rows × 41 columns</p>\n",
       "</div>"
      ],
      "text/plain": [
       "                                           abilities  against_bug  \\\n",
       "0  ['Rock Head', 'Sturdy', 'Sand Veil', 'Magnet P...            1   \n",
       "1  ['Stench', 'Sticky Hold', 'Poison Touch', 'Poi...            5   \n",
       "2  ['Rock Head', 'Sturdy', 'Sand Veil', 'Magnet P...            1   \n",
       "3  ['Sand Veil', 'Sand Rush', 'Snow Cloak', 'Slus...            1   \n",
       "4     ['Chlorophyll', 'Harvest', 'Frisk', 'Harvest']            4   \n",
       "\n",
       "   against_dark  against_dragon  against_electric  against_fairy  \\\n",
       "0             1               1                 0              1   \n",
       "1             1               1                 1              5   \n",
       "2             1               1                 0              1   \n",
       "3             1               1                 0              1   \n",
       "4             2               1                 5              1   \n",
       "\n",
       "   against_fight  against_fire  against_flying  against_ghost  ...  \\\n",
       "0              2             5               5              1  ...   \n",
       "1              5             1               1              1  ...   \n",
       "2              2             5               5              1  ...   \n",
       "3              1             1               1              1  ...   \n",
       "4              5             2               2              2  ...   \n",
       "\n",
       "   percentage_male  pokedex_number  sp_attack  sp_defense  speed   type1  \\\n",
       "0               50              74         30          30     20    rock   \n",
       "1               50              88         40          50     25  poison   \n",
       "2               50              75         45          45     35    rock   \n",
       "3               50              27         10          35     40  ground   \n",
       "4               50             103        125          75     45   grass   \n",
       "\n",
       "     type2  weight_kg  generation  is_legendary  \n",
       "0   ground          0           1             0  \n",
       "1   poison          0           1             0  \n",
       "2   ground          0           1             0  \n",
       "3      ice          0           1             0  \n",
       "4  psychic          0           1             0  \n",
       "\n",
       "[5 rows x 41 columns]"
      ]
     },
     "execution_count": 41,
     "metadata": {},
     "output_type": "execute_result"
    }
   ],
   "source": [
    "Pokemon.head()"
   ]
  },
  {
   "cell_type": "markdown",
   "id": "d71bfbd5",
   "metadata": {},
   "source": [
    "## Confidence interval berekend op de kolom gewicht"
   ]
  },
  {
   "cell_type": "code",
   "execution_count": 54,
   "id": "4400e467",
   "metadata": {},
   "outputs": [
    {
     "data": {
      "text/plain": [
       "(535.3806058454168, 661.5307549535844)"
      ]
     },
     "execution_count": 54,
     "metadata": {},
     "output_type": "execute_result"
    }
   ],
   "source": [
    "confidence = 0.90\n",
    "st.t.interval(confidence, len(Pokemon)-1, loc=Pokemon['weight_kg'].mean(), scale=st.sem(Pokemon['weight_kg']))"
   ]
  },
  {
   "cell_type": "code",
   "execution_count": 53,
   "id": "1f17d35f",
   "metadata": {},
   "outputs": [
    {
     "data": {
      "text/plain": [
       "(523.2703772234023, 673.6409835755989)"
      ]
     },
     "execution_count": 53,
     "metadata": {},
     "output_type": "execute_result"
    }
   ],
   "source": [
    "confidence = 0.95\n",
    "st.t.interval(confidence, len(Pokemon)-1, loc=Pokemon['weight_kg'].mean(), scale=st.sem(Pokemon['weight_kg']))"
   ]
  },
  {
   "cell_type": "code",
   "execution_count": 51,
   "id": "4ff6de2c",
   "metadata": {},
   "outputs": [
    {
     "data": {
      "text/plain": [
       "(499.559009510106, 697.3523512888952)"
      ]
     },
     "execution_count": 51,
     "metadata": {},
     "output_type": "execute_result"
    }
   ],
   "source": [
    "confidence = 0.99\n",
    "st.t.interval(confidence, len(Pokemon)-1, loc=Pokemon['weight_kg'].mean(), scale=st.sem(Pokemon['weight_kg']))"
   ]
  },
  {
   "cell_type": "code",
   "execution_count": 50,
   "id": "aa2994b9",
   "metadata": {},
   "outputs": [
    {
     "data": {
      "text/plain": [
       "(448.6813698208268, 748.2299909781743)"
      ]
     },
     "execution_count": 50,
     "metadata": {},
     "output_type": "execute_result"
    }
   ],
   "source": [
    "confidence = 0.9999\n",
    "st.t.interval(confidence, len(Pokemon)-1, loc=Pokemon['weight_kg'].mean(), scale=st.sem(Pokemon['weight_kg']))"
   ]
  },
  {
   "cell_type": "markdown",
   "id": "e9fd073b",
   "metadata": {},
   "source": [
    "## Confidence interval berekend op de kolom lengte"
   ]
  },
  {
   "cell_type": "code",
   "execution_count": 55,
   "id": "01648690",
   "metadata": {},
   "outputs": [
    {
     "data": {
      "text/plain": [
       "(523.2703772234023, 673.6409835755989)"
      ]
     },
     "execution_count": 55,
     "metadata": {},
     "output_type": "execute_result"
    }
   ],
   "source": [
    "confidence = 0.90\n",
    "st.t.interval(confidence, len(Pokemon)-1, loc=Pokemon['height_m'].mean(), scale=st.sem(Pokemon['height_m']))\n"
   ]
  },
  {
   "cell_type": "code",
   "execution_count": 60,
   "id": "d2bbacd3",
   "metadata": {},
   "outputs": [
    {
     "data": {
      "text/plain": [
       "(10.597801743057154, 12.098827470425991)"
      ]
     },
     "execution_count": 60,
     "metadata": {},
     "output_type": "execute_result"
    }
   ],
   "source": [
    "confidence = 0.95\n",
    "st.t.interval(confidence, len(Pokemon)-1, loc=Pokemon['height_m'].mean(), scale=st.sem(Pokemon['height_m']))"
   ]
  },
  {
   "cell_type": "code",
   "execution_count": 61,
   "id": "4ca619ab",
   "metadata": {},
   "outputs": [
    {
     "data": {
      "text/plain": [
       "(10.36111071791492, 12.335518495568225)"
      ]
     },
     "execution_count": 61,
     "metadata": {},
     "output_type": "execute_result"
    }
   ],
   "source": [
    "confidence = 0.99\n",
    "st.t.interval(confidence, len(Pokemon)-1, loc=Pokemon['height_m'].mean(), scale=st.sem(Pokemon['height_m']))"
   ]
  },
  {
   "cell_type": "code",
   "execution_count": 62,
   "id": "a40413a2",
   "metadata": {},
   "outputs": [
    {
     "data": {
      "text/plain": [
       "(9.853241208214733, 12.843388005268412)"
      ]
     },
     "execution_count": 62,
     "metadata": {},
     "output_type": "execute_result"
    }
   ],
   "source": [
    "confidence = 0.9999\n",
    "st.t.interval(confidence, len(Pokemon)-1, loc=Pokemon['height_m'].mean(), scale=st.sem(Pokemon['height_m']))"
   ]
  },
  {
   "cell_type": "markdown",
   "id": "c55abdbe",
   "metadata": {},
   "source": [
    "## Confidence interval berekend op de kolom lengte & gewicht van 10% van de dataset"
   ]
  },
  {
   "cell_type": "markdown",
   "id": "ea82a119",
   "metadata": {},
   "source": [
    "Berekenen van aantal rijen "
   ]
  },
  {
   "cell_type": "code",
   "execution_count": 73,
   "id": "58866d0a",
   "metadata": {},
   "outputs": [
    {
     "data": {
      "text/plain": [
       "801"
      ]
     },
     "execution_count": 73,
     "metadata": {},
     "output_type": "execute_result"
    }
   ],
   "source": [
    "len(Pokemon.index)"
   ]
  },
  {
   "cell_type": "code",
   "execution_count": 66,
   "id": "c736ae5d",
   "metadata": {},
   "outputs": [
    {
     "data": {
      "text/plain": [
       "80.1"
      ]
     },
     "execution_count": 66,
     "metadata": {},
     "output_type": "execute_result"
    }
   ],
   "source": [
    "801 / 100 * 10"
   ]
  },
  {
   "cell_type": "code",
   "execution_count": 68,
   "id": "66ad994c",
   "metadata": {},
   "outputs": [],
   "source": [
    "NewDS = Pokemon.head(80)"
   ]
  },
  {
   "cell_type": "markdown",
   "id": "1dc197bb",
   "metadata": {},
   "source": [
    "Uitvoeren van de confidence interval met de nieuwe dataset"
   ]
  },
  {
   "cell_type": "code",
   "execution_count": 70,
   "id": "64fc7113",
   "metadata": {},
   "outputs": [
    {
     "data": {
      "text/plain": [
       "(2.106203402196047, 3.318796597803953)"
      ]
     },
     "execution_count": 70,
     "metadata": {},
     "output_type": "execute_result"
    }
   ],
   "source": [
    "confidence = 0.95\n",
    "st.t.interval(confidence, len(NewDS)-1, loc=NewDS['height_m'].mean(), scale=st.sem(NewDS['height_m']))"
   ]
  },
  {
   "cell_type": "code",
   "execution_count": 71,
   "id": "05bc050e",
   "metadata": {},
   "outputs": [
    {
     "data": {
      "text/plain": [
       "(6.804431098938858, 10.22056890106114)"
      ]
     },
     "execution_count": 71,
     "metadata": {},
     "output_type": "execute_result"
    }
   ],
   "source": [
    "confidence = 0.95\n",
    "st.t.interval(confidence, len(NewDS)-1, loc=NewDS['weight_kg'].mean(), scale=st.sem(NewDS['weight_kg']))"
   ]
  },
  {
   "cell_type": "code",
   "execution_count": null,
   "id": "345497a2",
   "metadata": {},
   "outputs": [],
   "source": []
  }
 ],
 "metadata": {
  "kernelspec": {
   "display_name": "Python 3 (ipykernel)",
   "language": "python",
   "name": "python3"
  },
  "language_info": {
   "codemirror_mode": {
    "name": "ipython",
    "version": 3
   },
   "file_extension": ".py",
   "mimetype": "text/x-python",
   "name": "python",
   "nbconvert_exporter": "python",
   "pygments_lexer": "ipython3",
   "version": "3.9.13"
  }
 },
 "nbformat": 4,
 "nbformat_minor": 5
}
