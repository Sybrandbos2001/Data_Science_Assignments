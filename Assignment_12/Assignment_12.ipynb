{
 "cells": [
  {
   "cell_type": "markdown",
   "id": "7d384c51",
   "metadata": {},
   "source": [
    "### Portfolio assignment 12\n",
    "30 min: Perform a bivariate analysis on at least 3 combinations of a numerical column with a categorical column in the dataset that you chose in portfolio assignment 4. Use <em>.groupby('columnname').mean()</em> to calculate the means. Is there a difference between categories? Then use seaborn barplots to check if there is a statistically significant difference. "
   ]
  },
  {
   "cell_type": "code",
   "execution_count": 1,
   "id": "4a810dc0",
   "metadata": {},
   "outputs": [],
   "source": [
    "import pandas as pd\n",
    "import seaborn as sns"
   ]
  },
  {
   "cell_type": "code",
   "execution_count": 2,
   "id": "5cd002b6",
   "metadata": {},
   "outputs": [],
   "source": [
    "Pokemon = pd.read_csv(\"Pokemon.csv\", sep=\";\")"
   ]
  },
  {
   "cell_type": "code",
   "execution_count": 3,
   "id": "a734ba96",
   "metadata": {},
   "outputs": [
    {
     "data": {
      "text/html": [
       "<div>\n",
       "<style scoped>\n",
       "    .dataframe tbody tr th:only-of-type {\n",
       "        vertical-align: middle;\n",
       "    }\n",
       "\n",
       "    .dataframe tbody tr th {\n",
       "        vertical-align: top;\n",
       "    }\n",
       "\n",
       "    .dataframe thead th {\n",
       "        text-align: right;\n",
       "    }\n",
       "</style>\n",
       "<table border=\"1\" class=\"dataframe\">\n",
       "  <thead>\n",
       "    <tr style=\"text-align: right;\">\n",
       "      <th></th>\n",
       "      <th>abilities</th>\n",
       "      <th>attack</th>\n",
       "      <th>capture_rate</th>\n",
       "      <th>classfication</th>\n",
       "      <th>defense</th>\n",
       "      <th>experience_growth</th>\n",
       "      <th>height_m</th>\n",
       "      <th>hp</th>\n",
       "      <th>name</th>\n",
       "      <th>percentage_male</th>\n",
       "      <th>pokedex_number</th>\n",
       "      <th>sp_attack</th>\n",
       "      <th>sp_defense</th>\n",
       "      <th>speed</th>\n",
       "      <th>type1</th>\n",
       "      <th>type2</th>\n",
       "      <th>weight_kg</th>\n",
       "      <th>generation</th>\n",
       "      <th>is_legendary</th>\n",
       "    </tr>\n",
       "  </thead>\n",
       "  <tbody>\n",
       "    <tr>\n",
       "      <th>0</th>\n",
       "      <td>['Rock Head', 'Sturdy', 'Sand Veil', 'Magnet P...</td>\n",
       "      <td>80</td>\n",
       "      <td>255.0</td>\n",
       "      <td>Rock Pokémon</td>\n",
       "      <td>100</td>\n",
       "      <td>1059860</td>\n",
       "      <td>0</td>\n",
       "      <td>40</td>\n",
       "      <td>Geodude</td>\n",
       "      <td>50</td>\n",
       "      <td>74</td>\n",
       "      <td>30</td>\n",
       "      <td>30</td>\n",
       "      <td>20</td>\n",
       "      <td>rock</td>\n",
       "      <td>ground</td>\n",
       "      <td>0</td>\n",
       "      <td>1</td>\n",
       "      <td>0</td>\n",
       "    </tr>\n",
       "    <tr>\n",
       "      <th>1</th>\n",
       "      <td>['Stench', 'Sticky Hold', 'Poison Touch', 'Poi...</td>\n",
       "      <td>80</td>\n",
       "      <td>190.0</td>\n",
       "      <td>Sludge Pokémon</td>\n",
       "      <td>50</td>\n",
       "      <td>1000000</td>\n",
       "      <td>0</td>\n",
       "      <td>80</td>\n",
       "      <td>Grimer</td>\n",
       "      <td>50</td>\n",
       "      <td>88</td>\n",
       "      <td>40</td>\n",
       "      <td>50</td>\n",
       "      <td>25</td>\n",
       "      <td>poison</td>\n",
       "      <td>poison</td>\n",
       "      <td>0</td>\n",
       "      <td>1</td>\n",
       "      <td>0</td>\n",
       "    </tr>\n",
       "    <tr>\n",
       "      <th>2</th>\n",
       "      <td>['Rock Head', 'Sturdy', 'Sand Veil', 'Magnet P...</td>\n",
       "      <td>95</td>\n",
       "      <td>120.0</td>\n",
       "      <td>Rock Pokémon</td>\n",
       "      <td>115</td>\n",
       "      <td>1059860</td>\n",
       "      <td>0</td>\n",
       "      <td>55</td>\n",
       "      <td>Graveler</td>\n",
       "      <td>50</td>\n",
       "      <td>75</td>\n",
       "      <td>45</td>\n",
       "      <td>45</td>\n",
       "      <td>35</td>\n",
       "      <td>rock</td>\n",
       "      <td>ground</td>\n",
       "      <td>0</td>\n",
       "      <td>1</td>\n",
       "      <td>0</td>\n",
       "    </tr>\n",
       "    <tr>\n",
       "      <th>3</th>\n",
       "      <td>['Sand Veil', 'Sand Rush', 'Snow Cloak', 'Slus...</td>\n",
       "      <td>75</td>\n",
       "      <td>255.0</td>\n",
       "      <td>Mouse Pokémon</td>\n",
       "      <td>90</td>\n",
       "      <td>1000000</td>\n",
       "      <td>0</td>\n",
       "      <td>50</td>\n",
       "      <td>Sandshrew</td>\n",
       "      <td>50</td>\n",
       "      <td>27</td>\n",
       "      <td>10</td>\n",
       "      <td>35</td>\n",
       "      <td>40</td>\n",
       "      <td>ground</td>\n",
       "      <td>ice</td>\n",
       "      <td>0</td>\n",
       "      <td>1</td>\n",
       "      <td>0</td>\n",
       "    </tr>\n",
       "    <tr>\n",
       "      <th>4</th>\n",
       "      <td>['Chlorophyll', 'Harvest', 'Frisk', 'Harvest']</td>\n",
       "      <td>105</td>\n",
       "      <td>45.0</td>\n",
       "      <td>Coconut Pokémon</td>\n",
       "      <td>85</td>\n",
       "      <td>1250000</td>\n",
       "      <td>0</td>\n",
       "      <td>95</td>\n",
       "      <td>Exeggutor</td>\n",
       "      <td>50</td>\n",
       "      <td>103</td>\n",
       "      <td>125</td>\n",
       "      <td>75</td>\n",
       "      <td>45</td>\n",
       "      <td>grass</td>\n",
       "      <td>psychic</td>\n",
       "      <td>0</td>\n",
       "      <td>1</td>\n",
       "      <td>0</td>\n",
       "    </tr>\n",
       "  </tbody>\n",
       "</table>\n",
       "</div>"
      ],
      "text/plain": [
       "                                           abilities  attack  capture_rate  \\\n",
       "0  ['Rock Head', 'Sturdy', 'Sand Veil', 'Magnet P...      80         255.0   \n",
       "1  ['Stench', 'Sticky Hold', 'Poison Touch', 'Poi...      80         190.0   \n",
       "2  ['Rock Head', 'Sturdy', 'Sand Veil', 'Magnet P...      95         120.0   \n",
       "3  ['Sand Veil', 'Sand Rush', 'Snow Cloak', 'Slus...      75         255.0   \n",
       "4     ['Chlorophyll', 'Harvest', 'Frisk', 'Harvest']     105          45.0   \n",
       "\n",
       "     classfication  defense  experience_growth  height_m  hp       name  \\\n",
       "0     Rock Pokémon      100            1059860         0  40    Geodude   \n",
       "1   Sludge Pokémon       50            1000000         0  80     Grimer   \n",
       "2     Rock Pokémon      115            1059860         0  55   Graveler   \n",
       "3    Mouse Pokémon       90            1000000         0  50  Sandshrew   \n",
       "4  Coconut Pokémon       85            1250000         0  95  Exeggutor   \n",
       "\n",
       "   percentage_male  pokedex_number  sp_attack  sp_defense  speed   type1  \\\n",
       "0               50              74         30          30     20    rock   \n",
       "1               50              88         40          50     25  poison   \n",
       "2               50              75         45          45     35    rock   \n",
       "3               50              27         10          35     40  ground   \n",
       "4               50             103        125          75     45   grass   \n",
       "\n",
       "     type2  weight_kg  generation  is_legendary  \n",
       "0   ground          0           1             0  \n",
       "1   poison          0           1             0  \n",
       "2   ground          0           1             0  \n",
       "3      ice          0           1             0  \n",
       "4  psychic          0           1             0  "
      ]
     },
     "execution_count": 3,
     "metadata": {},
     "output_type": "execute_result"
    }
   ],
   "source": [
    "Pokemon.head()"
   ]
  },
  {
   "cell_type": "code",
   "execution_count": 4,
   "id": "4d241419",
   "metadata": {},
   "outputs": [
    {
     "data": {
      "text/plain": [
       "<AxesSubplot:xlabel='generation', ylabel='attack'>"
      ]
     },
     "execution_count": 4,
     "metadata": {},
     "output_type": "execute_result"
    },
    {
     "data": {
      "image/png": "[encoded data removed]",
      "text/plain": [
       "<Figure size 640x480 with 1 Axes>"
      ]
     },
     "metadata": {},
     "output_type": "display_data"
    }
   ],
   "source": [
    "sns.barplot(data=Pokemon, x='generation', y='attack')"
   ]
  },
  {
   "cell_type": "markdown",
   "id": "e7526b22",
   "metadata": {},
   "source": [
    "### Je kunt hieruit opmaken dat de gemiddelde aanvals sterkte van een pokemon per generatie redelijk overeen komen. Er is geen significant verschil in te vinden. Dit kun je opmaken uit dat de confidence interval deze hebben overlapping met elkaar."
   ]
  },
  {
   "cell_type": "code",
   "execution_count": 5,
   "id": "fb65333b",
   "metadata": {},
   "outputs": [
    {
     "data": {
      "text/plain": [
       "<AxesSubplot:xlabel='is_legendary', ylabel='capture_rate'>"
      ]
     },
     "execution_count": 5,
     "metadata": {},
     "output_type": "execute_result"
    },
    {
     "data": {
      "image/png": "[encoded data removed]",
      "text/plain": [
       "<Figure size 640x480 with 1 Axes>"
      ]
     },
     "metadata": {},
     "output_type": "display_data"
    }
   ],
   "source": [
    "sns.barplot(data=Pokemon, x='is_legendary', y='capture_rate')"
   ]
  },
  {
   "cell_type": "code",
   "execution_count": 6,
   "id": "58f339e5",
   "metadata": {},
   "outputs": [
    {
     "data": {
      "text/plain": [
       "is_legendary\n",
       "0    106.506849\n",
       "1     17.985714\n",
       "Name: capture_rate, dtype: float64"
      ]
     },
     "execution_count": 6,
     "metadata": {},
     "output_type": "execute_result"
    }
   ],
   "source": [
    "Pokemon.groupby('is_legendary')['capture_rate'].mean()"
   ]
  },
  {
   "cell_type": "markdown",
   "id": "019bb8ea",
   "metadata": {},
   "source": [
    "### Je kunt hieruit opmaken dat er een significant verschil zit tussen de vangst ratio van een legendarische en niet legendarische pokemon. Dit kun je opmaken aan de confidence interval, deze hebben absoluut geen overlap"
   ]
  },
  {
   "cell_type": "code",
   "execution_count": 7,
   "id": "2468eb06",
   "metadata": {},
   "outputs": [
    {
     "data": {
      "text/plain": [
       "<AxesSubplot:xlabel='generation', ylabel='capture_rate'>"
      ]
     },
     "execution_count": 7,
     "metadata": {},
     "output_type": "execute_result"
    },
    {
     "data": {
      "image/png": "[encoded data removed]",
      "text/plain": [
       "<Figure size 640x480 with 1 Axes>"
      ]
     },
     "metadata": {},
     "output_type": "display_data"
    }
   ],
   "source": [
    "sns.barplot(data=Pokemon, x='generation', y='capture_rate')"
   ]
  },
  {
   "cell_type": "code",
   "execution_count": 8,
   "id": "02876379",
   "metadata": {},
   "outputs": [
    {
     "data": {
      "text/plain": [
       "generation\n",
       "1    106.185430\n",
       "2     91.900000\n",
       "3    113.355556\n",
       "4     78.859813\n",
       "5    103.102564\n",
       "6    100.402778\n",
       "7     85.202532\n",
       "Name: capture_rate, dtype: float64"
      ]
     },
     "execution_count": 8,
     "metadata": {},
     "output_type": "execute_result"
    }
   ],
   "source": [
    "Pokemon.groupby('generation')['capture_rate'].mean()"
   ]
  },
  {
   "cell_type": "markdown",
   "id": "a13631b2",
   "metadata": {},
   "source": [
    "### Je kunt hieruit opmaken dat de gemiddelde vangst ratio voor een pokemon uit de 3e & 4e  generatie significant verschillen met elkaar. Dit kun je opmaken uit de confidence interval die geen overlap hebben met elkaar."
   ]
  },
  {
   "cell_type": "code",
   "execution_count": null,
   "id": "159daa91",
   "metadata": {},
   "outputs": [],
   "source": []
  }
 ],
 "metadata": {
  "kernelspec": {
   "display_name": "Python 3 (ipykernel)",
   "language": "python",
   "name": "python3"
  },
  "language_info": {
   "codemirror_mode": {
    "name": "ipython",
    "version": 3
   },
   "file_extension": ".py",
   "mimetype": "text/x-python",
   "name": "python",
   "nbconvert_exporter": "python",
   "pygments_lexer": "ipython3",
   "version": "3.9.13"
  }
 },
 "nbformat": 4,
 "nbformat_minor": 5
}
