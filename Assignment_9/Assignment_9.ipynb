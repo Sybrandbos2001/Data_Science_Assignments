{
 "cells": [
  {
   "cell_type": "markdown",
   "id": "7d384c51",
   "metadata": {},
   "source": [
    "## Perform a bivariate analysis on the columns with numerical data in the penguins dataset.\n",
    "\n",
    "Use corr() on the DataFrame to calculate all the correlations. Use the code example above to show the correlation table with colors.\n",
    "Look at the corrrelations. Do they match your expectations?\n",
    "Show a scatter plot for\n",
    "The strongest positive correlation\n",
    "The strongest negative correlation\n",
    "The weakest correlation"
   ]
  },
  {
   "cell_type": "code",
   "execution_count": 3,
   "id": "4a810dc0",
   "metadata": {},
   "outputs": [],
   "source": [
    "import pandas as pd\n",
    "import seaborn as sns"
   ]
  },
  {
   "cell_type": "code",
   "execution_count": 4,
   "id": "5cd002b6",
   "metadata": {},
   "outputs": [],
   "source": [
    "penguins = sns.load_dataset(\"penguins\")"
   ]
  },
  {
   "cell_type": "code",
   "execution_count": 5,
   "id": "a734ba96",
   "metadata": {},
   "outputs": [
    {
     "data": {
      "text/html": [
       "<div>\n",
       "<style scoped>\n",
       "    .dataframe tbody tr th:only-of-type {\n",
       "        vertical-align: middle;\n",
       "    }\n",
       "\n",
       "    .dataframe tbody tr th {\n",
       "        vertical-align: top;\n",
       "    }\n",
       "\n",
       "    .dataframe thead th {\n",
       "        text-align: right;\n",
       "    }\n",
       "</style>\n",
       "<table border=\"1\" class=\"dataframe\">\n",
       "  <thead>\n",
       "    <tr style=\"text-align: right;\">\n",
       "      <th></th>\n",
       "      <th>species</th>\n",
       "      <th>island</th>\n",
       "      <th>bill_length_mm</th>\n",
       "      <th>bill_depth_mm</th>\n",
       "      <th>flipper_length_mm</th>\n",
       "      <th>body_mass_g</th>\n",
       "      <th>sex</th>\n",
       "    </tr>\n",
       "  </thead>\n",
       "  <tbody>\n",
       "    <tr>\n",
       "      <th>0</th>\n",
       "      <td>Adelie</td>\n",
       "      <td>Torgersen</td>\n",
       "      <td>39.1</td>\n",
       "      <td>18.7</td>\n",
       "      <td>181.0</td>\n",
       "      <td>3750.0</td>\n",
       "      <td>Male</td>\n",
       "    </tr>\n",
       "    <tr>\n",
       "      <th>1</th>\n",
       "      <td>Adelie</td>\n",
       "      <td>Torgersen</td>\n",
       "      <td>39.5</td>\n",
       "      <td>17.4</td>\n",
       "      <td>186.0</td>\n",
       "      <td>3800.0</td>\n",
       "      <td>Female</td>\n",
       "    </tr>\n",
       "    <tr>\n",
       "      <th>2</th>\n",
       "      <td>Adelie</td>\n",
       "      <td>Torgersen</td>\n",
       "      <td>40.3</td>\n",
       "      <td>18.0</td>\n",
       "      <td>195.0</td>\n",
       "      <td>3250.0</td>\n",
       "      <td>Female</td>\n",
       "    </tr>\n",
       "    <tr>\n",
       "      <th>3</th>\n",
       "      <td>Adelie</td>\n",
       "      <td>Torgersen</td>\n",
       "      <td>NaN</td>\n",
       "      <td>NaN</td>\n",
       "      <td>NaN</td>\n",
       "      <td>NaN</td>\n",
       "      <td>NaN</td>\n",
       "    </tr>\n",
       "    <tr>\n",
       "      <th>4</th>\n",
       "      <td>Adelie</td>\n",
       "      <td>Torgersen</td>\n",
       "      <td>36.7</td>\n",
       "      <td>19.3</td>\n",
       "      <td>193.0</td>\n",
       "      <td>3450.0</td>\n",
       "      <td>Female</td>\n",
       "    </tr>\n",
       "  </tbody>\n",
       "</table>\n",
       "</div>"
      ],
      "text/plain": [
       "  species     island  bill_length_mm  bill_depth_mm  flipper_length_mm  \\\n",
       "0  Adelie  Torgersen            39.1           18.7              181.0   \n",
       "1  Adelie  Torgersen            39.5           17.4              186.0   \n",
       "2  Adelie  Torgersen            40.3           18.0              195.0   \n",
       "3  Adelie  Torgersen             NaN            NaN                NaN   \n",
       "4  Adelie  Torgersen            36.7           19.3              193.0   \n",
       "\n",
       "   body_mass_g     sex  \n",
       "0       3750.0    Male  \n",
       "1       3800.0  Female  \n",
       "2       3250.0  Female  \n",
       "3          NaN     NaN  \n",
       "4       3450.0  Female  "
      ]
     },
     "execution_count": 5,
     "metadata": {},
     "output_type": "execute_result"
    }
   ],
   "source": [
    "penguins.head()"
   ]
  },
  {
   "cell_type": "code",
   "execution_count": 6,
   "id": "c299f905",
   "metadata": {},
   "outputs": [
    {
     "data": {
      "text/html": [
       "<style type=\"text/css\">\n",
       "#T_4ee8b_row0_col0, #T_4ee8b_row1_col1, #T_4ee8b_row2_col2, #T_4ee8b_row3_col3 {\n",
       "  background-color: #b40426;\n",
       "  color: #f1f1f1;\n",
       "}\n",
       "#T_4ee8b_row0_col1, #T_4ee8b_row1_col0 {\n",
       "  background-color: #82a6fb;\n",
       "  color: #f1f1f1;\n",
       "}\n",
       "#T_4ee8b_row0_col2, #T_4ee8b_row2_col0 {\n",
       "  background-color: #f08b6e;\n",
       "  color: #f1f1f1;\n",
       "}\n",
       "#T_4ee8b_row0_col3, #T_4ee8b_row3_col0 {\n",
       "  background-color: #f59c7d;\n",
       "  color: #000000;\n",
       "}\n",
       "#T_4ee8b_row1_col2, #T_4ee8b_row2_col1 {\n",
       "  background-color: #3b4cc0;\n",
       "  color: #f1f1f1;\n",
       "}\n",
       "#T_4ee8b_row1_col3, #T_4ee8b_row3_col1 {\n",
       "  background-color: #506bda;\n",
       "  color: #f1f1f1;\n",
       "}\n",
       "#T_4ee8b_row2_col3, #T_4ee8b_row3_col2 {\n",
       "  background-color: #d0473d;\n",
       "  color: #f1f1f1;\n",
       "}\n",
       "</style>\n",
       "<table id=\"T_4ee8b\">\n",
       "  <thead>\n",
       "    <tr>\n",
       "      <th class=\"blank level0\" >&nbsp;</th>\n",
       "      <th id=\"T_4ee8b_level0_col0\" class=\"col_heading level0 col0\" >bill_length_mm</th>\n",
       "      <th id=\"T_4ee8b_level0_col1\" class=\"col_heading level0 col1\" >bill_depth_mm</th>\n",
       "      <th id=\"T_4ee8b_level0_col2\" class=\"col_heading level0 col2\" >flipper_length_mm</th>\n",
       "      <th id=\"T_4ee8b_level0_col3\" class=\"col_heading level0 col3\" >body_mass_g</th>\n",
       "    </tr>\n",
       "  </thead>\n",
       "  <tbody>\n",
       "    <tr>\n",
       "      <th id=\"T_4ee8b_level0_row0\" class=\"row_heading level0 row0\" >bill_length_mm</th>\n",
       "      <td id=\"T_4ee8b_row0_col0\" class=\"data row0 col0\" >1.00</td>\n",
       "      <td id=\"T_4ee8b_row0_col1\" class=\"data row0 col1\" >-0.24</td>\n",
       "      <td id=\"T_4ee8b_row0_col2\" class=\"data row0 col2\" >0.66</td>\n",
       "      <td id=\"T_4ee8b_row0_col3\" class=\"data row0 col3\" >0.60</td>\n",
       "    </tr>\n",
       "    <tr>\n",
       "      <th id=\"T_4ee8b_level0_row1\" class=\"row_heading level0 row1\" >bill_depth_mm</th>\n",
       "      <td id=\"T_4ee8b_row1_col0\" class=\"data row1 col0\" >-0.24</td>\n",
       "      <td id=\"T_4ee8b_row1_col1\" class=\"data row1 col1\" >1.00</td>\n",
       "      <td id=\"T_4ee8b_row1_col2\" class=\"data row1 col2\" >-0.58</td>\n",
       "      <td id=\"T_4ee8b_row1_col3\" class=\"data row1 col3\" >-0.47</td>\n",
       "    </tr>\n",
       "    <tr>\n",
       "      <th id=\"T_4ee8b_level0_row2\" class=\"row_heading level0 row2\" >flipper_length_mm</th>\n",
       "      <td id=\"T_4ee8b_row2_col0\" class=\"data row2 col0\" >0.66</td>\n",
       "      <td id=\"T_4ee8b_row2_col1\" class=\"data row2 col1\" >-0.58</td>\n",
       "      <td id=\"T_4ee8b_row2_col2\" class=\"data row2 col2\" >1.00</td>\n",
       "      <td id=\"T_4ee8b_row2_col3\" class=\"data row2 col3\" >0.87</td>\n",
       "    </tr>\n",
       "    <tr>\n",
       "      <th id=\"T_4ee8b_level0_row3\" class=\"row_heading level0 row3\" >body_mass_g</th>\n",
       "      <td id=\"T_4ee8b_row3_col0\" class=\"data row3 col0\" >0.60</td>\n",
       "      <td id=\"T_4ee8b_row3_col1\" class=\"data row3 col1\" >-0.47</td>\n",
       "      <td id=\"T_4ee8b_row3_col2\" class=\"data row3 col2\" >0.87</td>\n",
       "      <td id=\"T_4ee8b_row3_col3\" class=\"data row3 col3\" >1.00</td>\n",
       "    </tr>\n",
       "  </tbody>\n",
       "</table>\n"
      ],
      "text/plain": [
       "<pandas.io.formats.style.Styler at 0x227a851ce20>"
      ]
     },
     "execution_count": 6,
     "metadata": {},
     "output_type": "execute_result"
    }
   ],
   "source": [
    "penguinsCorrelations = penguins.corr()\n",
    "penguinsCorrelations.style.background_gradient(cmap='coolwarm', axis=None).format(precision=2)"
   ]
  },
  {
   "cell_type": "code",
   "execution_count": 7,
   "id": "e80aabc4",
   "metadata": {},
   "outputs": [
    {
     "data": {
      "text/plain": [
       "<AxesSubplot:xlabel='flipper_length_mm', ylabel='body_mass_g'>"
      ]
     },
     "execution_count": 7,
     "metadata": {},
     "output_type": "execute_result"
    },
    {
     "data": {
      "image/png": "[encoded data removed]",
      "text/plain": [
       "<Figure size 640x480 with 1 Axes>"
      ]
     },
     "metadata": {},
     "output_type": "display_data"
    }
   ],
   "source": [
    "penguins.plot(kind='scatter', x='flipper_length_mm', y='body_mass_g')"
   ]
  },
  {
   "cell_type": "code",
   "execution_count": null,
   "id": "3ecc0aeb",
   "metadata": {},
   "outputs": [],
   "source": []
  }
 ],
 "metadata": {
  "kernelspec": {
   "display_name": "Python 3 (ipykernel)",
   "language": "python",
   "name": "python3"
  },
  "language_info": {
   "codemirror_mode": {
    "name": "ipython",
    "version": 3
   },
   "file_extension": ".py",
   "mimetype": "text/x-python",
   "name": "python",
   "nbconvert_exporter": "python",
   "pygments_lexer": "ipython3",
   "version": "3.9.13"
  }
 },
 "nbformat": 4,
 "nbformat_minor": 5
}
