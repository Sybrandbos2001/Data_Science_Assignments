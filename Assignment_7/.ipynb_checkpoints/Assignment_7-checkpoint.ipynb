{
 "cells": [
  {
   "cell_type": "markdown",
   "id": "f99d4ed2",
   "metadata": {},
   "source": [
    " ### Portfolio assignment 7\n",
    "15 min: Look at the histogram of at least 2 columns with numerical data in the dataset that you chose in portfolio assignment 4. Do you recognise the distribution? Does it look like a uniform or normal distribution or something else? If it doesn't look like a uniform or normal distribution, take a quick look here to see if you can find the distribution shape: https://www.itl.nist.gov/div898/handbook/eda/section3/eda366.htm"
   ]
  },
  {
   "cell_type": "code",
   "execution_count": 2,
   "id": "b9487fd6",
   "metadata": {},
   "outputs": [],
   "source": [
    "import numpy as np\n",
    "import pandas as pd"
   ]
  },
  {
   "cell_type": "code",
   "execution_count": 3,
   "id": "4b03310a",
   "metadata": {},
   "outputs": [],
   "source": [
    "Pokemon = pd.read_csv(\"Pokemon.csv\", sep=\";\")"
   ]
  },
  {
   "cell_type": "code",
   "execution_count": 4,
   "id": "3f9013fa",
   "metadata": {},
   "outputs": [
    {
     "data": {
      "text/html": [
       "<div>\n",
       "<style scoped>\n",
       "    .dataframe tbody tr th:only-of-type {\n",
       "        vertical-align: middle;\n",
       "    }\n",
       "\n",
       "    .dataframe tbody tr th {\n",
       "        vertical-align: top;\n",
       "    }\n",
       "\n",
       "    .dataframe thead th {\n",
       "        text-align: right;\n",
       "    }\n",
       "</style>\n",
       "<table border=\"1\" class=\"dataframe\">\n",
       "  <thead>\n",
       "    <tr style=\"text-align: right;\">\n",
       "      <th></th>\n",
       "      <th>abilities</th>\n",
       "      <th>attack</th>\n",
       "      <th>capture_rate</th>\n",
       "      <th>classfication</th>\n",
       "      <th>defense</th>\n",
       "      <th>experience_growth</th>\n",
       "      <th>height_m</th>\n",
       "      <th>hp</th>\n",
       "      <th>name</th>\n",
       "      <th>percentage_male</th>\n",
       "      <th>pokedex_number</th>\n",
       "      <th>sp_attack</th>\n",
       "      <th>sp_defense</th>\n",
       "      <th>speed</th>\n",
       "      <th>type1</th>\n",
       "      <th>type2</th>\n",
       "      <th>weight_kg</th>\n",
       "      <th>generation</th>\n",
       "      <th>is_legendary</th>\n",
       "    </tr>\n",
       "  </thead>\n",
       "  <tbody>\n",
       "    <tr>\n",
       "      <th>0</th>\n",
       "      <td>['Rock Head', 'Sturdy', 'Sand Veil', 'Magnet P...</td>\n",
       "      <td>80</td>\n",
       "      <td>255.0</td>\n",
       "      <td>Rock Pokémon</td>\n",
       "      <td>100</td>\n",
       "      <td>1059860</td>\n",
       "      <td>0</td>\n",
       "      <td>40</td>\n",
       "      <td>Geodude</td>\n",
       "      <td>50</td>\n",
       "      <td>74</td>\n",
       "      <td>30</td>\n",
       "      <td>30</td>\n",
       "      <td>20</td>\n",
       "      <td>rock</td>\n",
       "      <td>ground</td>\n",
       "      <td>0</td>\n",
       "      <td>1</td>\n",
       "      <td>0</td>\n",
       "    </tr>\n",
       "    <tr>\n",
       "      <th>1</th>\n",
       "      <td>['Stench', 'Sticky Hold', 'Poison Touch', 'Poi...</td>\n",
       "      <td>80</td>\n",
       "      <td>190.0</td>\n",
       "      <td>Sludge Pokémon</td>\n",
       "      <td>50</td>\n",
       "      <td>1000000</td>\n",
       "      <td>0</td>\n",
       "      <td>80</td>\n",
       "      <td>Grimer</td>\n",
       "      <td>50</td>\n",
       "      <td>88</td>\n",
       "      <td>40</td>\n",
       "      <td>50</td>\n",
       "      <td>25</td>\n",
       "      <td>poison</td>\n",
       "      <td>poison</td>\n",
       "      <td>0</td>\n",
       "      <td>1</td>\n",
       "      <td>0</td>\n",
       "    </tr>\n",
       "    <tr>\n",
       "      <th>2</th>\n",
       "      <td>['Rock Head', 'Sturdy', 'Sand Veil', 'Magnet P...</td>\n",
       "      <td>95</td>\n",
       "      <td>120.0</td>\n",
       "      <td>Rock Pokémon</td>\n",
       "      <td>115</td>\n",
       "      <td>1059860</td>\n",
       "      <td>0</td>\n",
       "      <td>55</td>\n",
       "      <td>Graveler</td>\n",
       "      <td>50</td>\n",
       "      <td>75</td>\n",
       "      <td>45</td>\n",
       "      <td>45</td>\n",
       "      <td>35</td>\n",
       "      <td>rock</td>\n",
       "      <td>ground</td>\n",
       "      <td>0</td>\n",
       "      <td>1</td>\n",
       "      <td>0</td>\n",
       "    </tr>\n",
       "    <tr>\n",
       "      <th>3</th>\n",
       "      <td>['Sand Veil', 'Sand Rush', 'Snow Cloak', 'Slus...</td>\n",
       "      <td>75</td>\n",
       "      <td>255.0</td>\n",
       "      <td>Mouse Pokémon</td>\n",
       "      <td>90</td>\n",
       "      <td>1000000</td>\n",
       "      <td>0</td>\n",
       "      <td>50</td>\n",
       "      <td>Sandshrew</td>\n",
       "      <td>50</td>\n",
       "      <td>27</td>\n",
       "      <td>10</td>\n",
       "      <td>35</td>\n",
       "      <td>40</td>\n",
       "      <td>ground</td>\n",
       "      <td>ice</td>\n",
       "      <td>0</td>\n",
       "      <td>1</td>\n",
       "      <td>0</td>\n",
       "    </tr>\n",
       "    <tr>\n",
       "      <th>4</th>\n",
       "      <td>['Chlorophyll', 'Harvest', 'Frisk', 'Harvest']</td>\n",
       "      <td>105</td>\n",
       "      <td>45.0</td>\n",
       "      <td>Coconut Pokémon</td>\n",
       "      <td>85</td>\n",
       "      <td>1250000</td>\n",
       "      <td>0</td>\n",
       "      <td>95</td>\n",
       "      <td>Exeggutor</td>\n",
       "      <td>50</td>\n",
       "      <td>103</td>\n",
       "      <td>125</td>\n",
       "      <td>75</td>\n",
       "      <td>45</td>\n",
       "      <td>grass</td>\n",
       "      <td>psychic</td>\n",
       "      <td>0</td>\n",
       "      <td>1</td>\n",
       "      <td>0</td>\n",
       "    </tr>\n",
       "  </tbody>\n",
       "</table>\n",
       "</div>"
      ],
      "text/plain": [
       "                                           abilities  attack  capture_rate  \\\n",
       "0  ['Rock Head', 'Sturdy', 'Sand Veil', 'Magnet P...      80         255.0   \n",
       "1  ['Stench', 'Sticky Hold', 'Poison Touch', 'Poi...      80         190.0   \n",
       "2  ['Rock Head', 'Sturdy', 'Sand Veil', 'Magnet P...      95         120.0   \n",
       "3  ['Sand Veil', 'Sand Rush', 'Snow Cloak', 'Slus...      75         255.0   \n",
       "4     ['Chlorophyll', 'Harvest', 'Frisk', 'Harvest']     105          45.0   \n",
       "\n",
       "     classfication  defense  experience_growth  height_m  hp       name  \\\n",
       "0     Rock Pokémon      100            1059860         0  40    Geodude   \n",
       "1   Sludge Pokémon       50            1000000         0  80     Grimer   \n",
       "2     Rock Pokémon      115            1059860         0  55   Graveler   \n",
       "3    Mouse Pokémon       90            1000000         0  50  Sandshrew   \n",
       "4  Coconut Pokémon       85            1250000         0  95  Exeggutor   \n",
       "\n",
       "   percentage_male  pokedex_number  sp_attack  sp_defense  speed   type1  \\\n",
       "0               50              74         30          30     20    rock   \n",
       "1               50              88         40          50     25  poison   \n",
       "2               50              75         45          45     35    rock   \n",
       "3               50              27         10          35     40  ground   \n",
       "4               50             103        125          75     45   grass   \n",
       "\n",
       "     type2  weight_kg  generation  is_legendary  \n",
       "0   ground          0           1             0  \n",
       "1   poison          0           1             0  \n",
       "2   ground          0           1             0  \n",
       "3      ice          0           1             0  \n",
       "4  psychic          0           1             0  "
      ]
     },
     "execution_count": 4,
     "metadata": {},
     "output_type": "execute_result"
    }
   ],
   "source": [
    "Pokemon.head()"
   ]
  },
  {
   "cell_type": "code",
   "execution_count": 5,
   "id": "951e1e6d",
   "metadata": {},
   "outputs": [],
   "source": [
    "Weight = Pokemon['weight_kg']"
   ]
  },
  {
   "cell_type": "code",
   "execution_count": 6,
   "id": "9d5f4849",
   "metadata": {},
   "outputs": [
    {
     "data": {
      "text/plain": [
       "<AxesSubplot:ylabel='Frequency'>"
      ]
     },
     "execution_count": 6,
     "metadata": {},
     "output_type": "execute_result"
    },
    {
     "data": {
      "image/png": "[encoded data removed]",
      "text/plain": [
       "<Figure size 640x480 with 1 Axes>"
      ]
     },
     "metadata": {},
     "output_type": "display_data"
    }
   ],
   "source": [
    "Weight.plot(kind='hist', bins=20)\n"
   ]
  },
  {
   "cell_type": "markdown",
   "id": "edbf9b00",
   "metadata": {},
   "source": [
    "### Dit neigt meer naar en uniform distribution"
   ]
  },
  {
   "cell_type": "code",
   "execution_count": 7,
   "id": "c36b5045",
   "metadata": {},
   "outputs": [],
   "source": [
    "Height = Pokemon['height_m']"
   ]
  },
  {
   "cell_type": "code",
   "execution_count": 8,
   "id": "c2d204d5",
   "metadata": {},
   "outputs": [
    {
     "data": {
      "text/plain": [
       "<AxesSubplot:ylabel='Frequency'>"
      ]
     },
     "execution_count": 8,
     "metadata": {},
     "output_type": "execute_result"
    },
    {
     "data": {
      "image/png": "[encoded data removed]",
      "text/plain": [
       "<Figure size 640x480 with 1 Axes>"
      ]
     },
     "metadata": {},
     "output_type": "display_data"
    }
   ],
   "source": [
    "Height.plot(kind='hist', bins=20)\n"
   ]
  },
  {
   "cell_type": "markdown",
   "id": "3657e0d0",
   "metadata": {},
   "source": [
    "### Dit neigt meer naar en uniform distribution\n"
   ]
  },
  {
   "cell_type": "markdown",
   "id": "a32d151f",
   "metadata": {},
   "source": [
    "Birnbaum-Saunders (Fatigue Life) Distribution"
   ]
  },
  {
   "attachments": {
    "flpdf.jpg": {
     "image/jpeg": "[encoded data removed]"
    }
   },
   "cell_type": "markdown",
   "id": "0acdb8ac",
   "metadata": {},
   "source": [
    "![flpdf.jpg](attachment:flpdf.jpg)"
   ]
  },
  {
   "cell_type": "markdown",
   "id": "a457e76b",
   "metadata": {},
   "source": [
    "### Ik heb online nog gekeken naar andere soorten distributions en ik denk dat de \"Birnbaum-Saunders (Fatigue Life) Distribution\" het dichtst in de buurt komt voor beide plots."
   ]
  },
  {
   "cell_type": "code",
   "execution_count": null,
   "id": "8ac0c0e1",
   "metadata": {},
   "outputs": [],
   "source": []
  }
 ],
 "metadata": {
  "kernelspec": {
   "display_name": "Python 3 (ipykernel)",
   "language": "python",
   "name": "python3"
  },
  "language_info": {
   "codemirror_mode": {
    "name": "ipython",
    "version": 3
   },
   "file_extension": ".py",
   "mimetype": "text/x-python",
   "name": "python",
   "nbconvert_exporter": "python",
   "pygments_lexer": "ipython3",
   "version": "3.9.13"
  }
 },
 "nbformat": 4,
 "nbformat_minor": 5
}
