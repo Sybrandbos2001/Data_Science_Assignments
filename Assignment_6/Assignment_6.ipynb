{
 "cells": [
  {
   "cell_type": "markdown",
   "id": "0964eb7f",
   "metadata": {},
   "source": [
    "### Portfolio assignment 6\n",
    "Perform a univariate analysis on at least 2 columns with categorical data and on at least 2 columns with numerical data in the dataset that you chose in portfolio assignment 4. Commit the Notebook to your portfolio when you're finished."
   ]
  },
  {
   "cell_type": "code",
   "execution_count": 1,
   "id": "65818dbf",
   "metadata": {},
   "outputs": [],
   "source": [
    "import pandas as pd"
   ]
  },
  {
   "cell_type": "code",
   "execution_count": 2,
   "id": "10f9ff11",
   "metadata": {},
   "outputs": [],
   "source": [
    "Pokemon = pd.read_csv(\"Pokemon.csv\", sep=\";\")"
   ]
  },
  {
   "cell_type": "code",
   "execution_count": 3,
   "id": "ac596824",
   "metadata": {},
   "outputs": [
    {
     "data": {
      "text/html": [
       "<div>\n",
       "<style scoped>\n",
       "    .dataframe tbody tr th:only-of-type {\n",
       "        vertical-align: middle;\n",
       "    }\n",
       "\n",
       "    .dataframe tbody tr th {\n",
       "        vertical-align: top;\n",
       "    }\n",
       "\n",
       "    .dataframe thead th {\n",
       "        text-align: right;\n",
       "    }\n",
       "</style>\n",
       "<table border=\"1\" class=\"dataframe\">\n",
       "  <thead>\n",
       "    <tr style=\"text-align: right;\">\n",
       "      <th></th>\n",
       "      <th>abilities</th>\n",
       "      <th>attack</th>\n",
       "      <th>capture_rate</th>\n",
       "      <th>classfication</th>\n",
       "      <th>defense</th>\n",
       "      <th>experience_growth</th>\n",
       "      <th>height_m</th>\n",
       "      <th>hp</th>\n",
       "      <th>name</th>\n",
       "      <th>percentage_male</th>\n",
       "      <th>pokedex_number</th>\n",
       "      <th>sp_attack</th>\n",
       "      <th>sp_defense</th>\n",
       "      <th>speed</th>\n",
       "      <th>type1</th>\n",
       "      <th>type2</th>\n",
       "      <th>weight_kg</th>\n",
       "      <th>generation</th>\n",
       "      <th>is_legendary</th>\n",
       "    </tr>\n",
       "  </thead>\n",
       "  <tbody>\n",
       "    <tr>\n",
       "      <th>0</th>\n",
       "      <td>['Rock Head', 'Sturdy', 'Sand Veil', 'Magnet P...</td>\n",
       "      <td>80</td>\n",
       "      <td>255.0</td>\n",
       "      <td>Rock Pokémon</td>\n",
       "      <td>100</td>\n",
       "      <td>1059860</td>\n",
       "      <td>0</td>\n",
       "      <td>40</td>\n",
       "      <td>Geodude</td>\n",
       "      <td>50</td>\n",
       "      <td>74</td>\n",
       "      <td>30</td>\n",
       "      <td>30</td>\n",
       "      <td>20</td>\n",
       "      <td>rock</td>\n",
       "      <td>ground</td>\n",
       "      <td>0</td>\n",
       "      <td>1</td>\n",
       "      <td>0</td>\n",
       "    </tr>\n",
       "    <tr>\n",
       "      <th>1</th>\n",
       "      <td>['Stench', 'Sticky Hold', 'Poison Touch', 'Poi...</td>\n",
       "      <td>80</td>\n",
       "      <td>190.0</td>\n",
       "      <td>Sludge Pokémon</td>\n",
       "      <td>50</td>\n",
       "      <td>1000000</td>\n",
       "      <td>0</td>\n",
       "      <td>80</td>\n",
       "      <td>Grimer</td>\n",
       "      <td>50</td>\n",
       "      <td>88</td>\n",
       "      <td>40</td>\n",
       "      <td>50</td>\n",
       "      <td>25</td>\n",
       "      <td>poison</td>\n",
       "      <td>poison</td>\n",
       "      <td>0</td>\n",
       "      <td>1</td>\n",
       "      <td>0</td>\n",
       "    </tr>\n",
       "    <tr>\n",
       "      <th>2</th>\n",
       "      <td>['Rock Head', 'Sturdy', 'Sand Veil', 'Magnet P...</td>\n",
       "      <td>95</td>\n",
       "      <td>120.0</td>\n",
       "      <td>Rock Pokémon</td>\n",
       "      <td>115</td>\n",
       "      <td>1059860</td>\n",
       "      <td>0</td>\n",
       "      <td>55</td>\n",
       "      <td>Graveler</td>\n",
       "      <td>50</td>\n",
       "      <td>75</td>\n",
       "      <td>45</td>\n",
       "      <td>45</td>\n",
       "      <td>35</td>\n",
       "      <td>rock</td>\n",
       "      <td>ground</td>\n",
       "      <td>0</td>\n",
       "      <td>1</td>\n",
       "      <td>0</td>\n",
       "    </tr>\n",
       "    <tr>\n",
       "      <th>3</th>\n",
       "      <td>['Sand Veil', 'Sand Rush', 'Snow Cloak', 'Slus...</td>\n",
       "      <td>75</td>\n",
       "      <td>255.0</td>\n",
       "      <td>Mouse Pokémon</td>\n",
       "      <td>90</td>\n",
       "      <td>1000000</td>\n",
       "      <td>0</td>\n",
       "      <td>50</td>\n",
       "      <td>Sandshrew</td>\n",
       "      <td>50</td>\n",
       "      <td>27</td>\n",
       "      <td>10</td>\n",
       "      <td>35</td>\n",
       "      <td>40</td>\n",
       "      <td>ground</td>\n",
       "      <td>ice</td>\n",
       "      <td>0</td>\n",
       "      <td>1</td>\n",
       "      <td>0</td>\n",
       "    </tr>\n",
       "    <tr>\n",
       "      <th>4</th>\n",
       "      <td>['Chlorophyll', 'Harvest', 'Frisk', 'Harvest']</td>\n",
       "      <td>105</td>\n",
       "      <td>45.0</td>\n",
       "      <td>Coconut Pokémon</td>\n",
       "      <td>85</td>\n",
       "      <td>1250000</td>\n",
       "      <td>0</td>\n",
       "      <td>95</td>\n",
       "      <td>Exeggutor</td>\n",
       "      <td>50</td>\n",
       "      <td>103</td>\n",
       "      <td>125</td>\n",
       "      <td>75</td>\n",
       "      <td>45</td>\n",
       "      <td>grass</td>\n",
       "      <td>psychic</td>\n",
       "      <td>0</td>\n",
       "      <td>1</td>\n",
       "      <td>0</td>\n",
       "    </tr>\n",
       "  </tbody>\n",
       "</table>\n",
       "</div>"
      ],
      "text/plain": [
       "                                           abilities  attack  capture_rate  \\\n",
       "0  ['Rock Head', 'Sturdy', 'Sand Veil', 'Magnet P...      80         255.0   \n",
       "1  ['Stench', 'Sticky Hold', 'Poison Touch', 'Poi...      80         190.0   \n",
       "2  ['Rock Head', 'Sturdy', 'Sand Veil', 'Magnet P...      95         120.0   \n",
       "3  ['Sand Veil', 'Sand Rush', 'Snow Cloak', 'Slus...      75         255.0   \n",
       "4     ['Chlorophyll', 'Harvest', 'Frisk', 'Harvest']     105          45.0   \n",
       "\n",
       "     classfication  defense  experience_growth  height_m  hp       name  \\\n",
       "0     Rock Pokémon      100            1059860         0  40    Geodude   \n",
       "1   Sludge Pokémon       50            1000000         0  80     Grimer   \n",
       "2     Rock Pokémon      115            1059860         0  55   Graveler   \n",
       "3    Mouse Pokémon       90            1000000         0  50  Sandshrew   \n",
       "4  Coconut Pokémon       85            1250000         0  95  Exeggutor   \n",
       "\n",
       "   percentage_male  pokedex_number  sp_attack  sp_defense  speed   type1  \\\n",
       "0               50              74         30          30     20    rock   \n",
       "1               50              88         40          50     25  poison   \n",
       "2               50              75         45          45     35    rock   \n",
       "3               50              27         10          35     40  ground   \n",
       "4               50             103        125          75     45   grass   \n",
       "\n",
       "     type2  weight_kg  generation  is_legendary  \n",
       "0   ground          0           1             0  \n",
       "1   poison          0           1             0  \n",
       "2   ground          0           1             0  \n",
       "3      ice          0           1             0  \n",
       "4  psychic          0           1             0  "
      ]
     },
     "execution_count": 3,
     "metadata": {},
     "output_type": "execute_result"
    }
   ],
   "source": [
    "Pokemon.head()"
   ]
  },
  {
   "cell_type": "code",
   "execution_count": 4,
   "id": "ea5c9d47",
   "metadata": {},
   "outputs": [
    {
     "data": {
      "text/plain": [
       "0         rock\n",
       "1       poison\n",
       "2         rock\n",
       "3       ground\n",
       "4        grass\n",
       "        ...   \n",
       "796       dark\n",
       "797     ground\n",
       "798     ground\n",
       "799    psychic\n",
       "800      steel\n",
       "Name: type1, Length: 801, dtype: object"
      ]
     },
     "execution_count": 4,
     "metadata": {},
     "output_type": "execute_result"
    }
   ],
   "source": [
    "Pokemon['type1']"
   ]
  },
  {
   "cell_type": "code",
   "execution_count": 5,
   "id": "ed27cfa8",
   "metadata": {},
   "outputs": [
    {
     "data": {
      "text/plain": [
       "array(['rock', 'poison', 'ground', 'grass', 'fire', 'normal', 'psychic',\n",
       "       'electric', 'fairy', 'ghost', 'bug', 'water', 'steel', 'dark',\n",
       "       'dragon', 'ice', 'fighting', 'flying'], dtype=object)"
      ]
     },
     "execution_count": 5,
     "metadata": {},
     "output_type": "execute_result"
    }
   ],
   "source": [
    "Pokemon['type1'].unique()"
   ]
  },
  {
   "cell_type": "code",
   "execution_count": 6,
   "id": "04e44455",
   "metadata": {},
   "outputs": [
    {
     "data": {
      "text/plain": [
       "water       114\n",
       "normal      105\n",
       "grass        78\n",
       "bug          72\n",
       "psychic      53\n",
       "fire         52\n",
       "rock         45\n",
       "electric     39\n",
       "ground       32\n",
       "poison       32\n",
       "dark         29\n",
       "fighting     28\n",
       "dragon       27\n",
       "ghost        27\n",
       "steel        24\n",
       "ice          23\n",
       "fairy        18\n",
       "flying        3\n",
       "Name: type1, dtype: int64"
      ]
     },
     "execution_count": 6,
     "metadata": {},
     "output_type": "execute_result"
    }
   ],
   "source": [
    "Pokemon['type1'].value_counts()"
   ]
  },
  {
   "cell_type": "code",
   "execution_count": 7,
   "id": "e248c626",
   "metadata": {},
   "outputs": [
    {
     "data": {
      "text/plain": [
       "<AxesSubplot:>"
      ]
     },
     "execution_count": 7,
     "metadata": {},
     "output_type": "execute_result"
    },
    {
     "data": {
      "image/png": "[encoded data removed]",
      "text/plain": [
       "<Figure size 640x480 with 1 Axes>"
      ]
     },
     "metadata": {},
     "output_type": "display_data"
    }
   ],
   "source": [
    "Pokemon['type1'].value_counts().plot(kind='bar')"
   ]
  },
  {
   "cell_type": "code",
   "execution_count": 8,
   "id": "a1033d71",
   "metadata": {},
   "outputs": [
    {
     "data": {
      "text/plain": [
       "<AxesSubplot:ylabel='type2'>"
      ]
     },
     "execution_count": 8,
     "metadata": {},
     "output_type": "execute_result"
    },
    {
     "data": {
      "image/png": "[encoded data removed]",
      "text/plain": [
       "<Figure size 640x480 with 1 Axes>"
      ]
     },
     "metadata": {},
     "output_type": "display_data"
    }
   ],
   "source": [
    "Pokemon['type2'].value_counts().plot(kind='pie')"
   ]
  },
  {
   "cell_type": "code",
   "execution_count": 9,
   "id": "28f672dd",
   "metadata": {},
   "outputs": [
    {
     "data": {
      "text/plain": [
       "0"
      ]
     },
     "execution_count": 9,
     "metadata": {},
     "output_type": "execute_result"
    }
   ],
   "source": [
    "Pokemon['height_m'].min()"
   ]
  },
  {
   "cell_type": "code",
   "execution_count": 10,
   "id": "e028e37f",
   "metadata": {},
   "outputs": [
    {
     "data": {
      "text/plain": [
       "145"
      ]
     },
     "execution_count": 10,
     "metadata": {},
     "output_type": "execute_result"
    }
   ],
   "source": [
    "Pokemon['height_m'].max()"
   ]
  },
  {
   "cell_type": "code",
   "execution_count": 11,
   "id": "16689548",
   "metadata": {},
   "outputs": [
    {
     "data": {
      "text/plain": [
       "11.348314606741573"
      ]
     },
     "execution_count": 11,
     "metadata": {},
     "output_type": "execute_result"
    }
   ],
   "source": [
    "Pokemon['height_m'].mean()"
   ]
  },
  {
   "cell_type": "code",
   "execution_count": 12,
   "id": "c45dc5f1",
   "metadata": {},
   "outputs": [
    {
     "data": {
      "text/plain": [
       "255.0"
      ]
     },
     "execution_count": 12,
     "metadata": {},
     "output_type": "execute_result"
    }
   ],
   "source": [
    "Pokemon['weight_kg'].median()"
   ]
  },
  {
   "cell_type": "code",
   "execution_count": null,
   "id": "aca95158",
   "metadata": {},
   "outputs": [],
   "source": []
  }
 ],
 "metadata": {
  "kernelspec": {
   "display_name": "Python 3 (ipykernel)",
   "language": "python",
   "name": "python3"
  },
  "language_info": {
   "codemirror_mode": {
    "name": "ipython",
    "version": 3
   },
   "file_extension": ".py",
   "mimetype": "text/x-python",
   "name": "python",
   "nbconvert_exporter": "python",
   "pygments_lexer": "ipython3",
   "version": "3.9.13"
  }
 },
 "nbformat": 4,
 "nbformat_minor": 5
}
