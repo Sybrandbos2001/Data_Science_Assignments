{
 "cells": [
  {
   "cell_type": "markdown",
   "id": "7d384c51",
   "metadata": {},
   "source": [
    "### Portfolio assignment 14\n",
    "Perform a bivariate analysis on at least 1 combination of 2 columns with categorical data in the dataset that you chose in portfolio assignment 4.\n",
    "- Do you expect their to be a correlation between the two columns?\n",
    "- Create a contingency table. Do you observe different ratios between categories here?\n",
    "- Create a bar plot for this contingency table. Do you observe different ratios between categories here?\n",
    "- Do a chi-squared test. What does the result say? What's the chance of there being a correlation between the two columns?"
   ]
  },
  {
   "cell_type": "code",
   "execution_count": 1,
   "id": "4a810dc0",
   "metadata": {},
   "outputs": [],
   "source": [
    "import pandas as pd\n",
    "import seaborn as sns"
   ]
  },
  {
   "cell_type": "code",
   "execution_count": 20,
   "id": "f9647477",
   "metadata": {},
   "outputs": [],
   "source": [
    "def create_contingency_table(dataset, column1, column2):\n",
    "    return dataset.groupby([column1, column2]).size().unstack(column1, fill_value=0)"
   ]
  },
  {
   "cell_type": "code",
   "execution_count": 21,
   "id": "cfd9096f",
   "metadata": {},
   "outputs": [],
   "source": [
    "from scipy.stats import chi2_contingency\n",
    "def check_cat_vs_cat_correlation(dataset, column1, column2):\n",
    "    contingency_table = create_contingency_table(dataset, column1, column2)\n",
    "    chi2 = chi2_contingency(contingency_table)\n",
    "    p_value = chi2[1]\n",
    "    odds_of_correlation = 1 - p_value\n",
    "    print(f\"The odds of a correlation between {column1} and {column2} is {odds_of_correlation * 100}% (Based on a p value of {p_value}).\")\n",
    "    print(\"This percentage needs to be at least 95% for a significant correlation.\")"
   ]
  },
  {
   "cell_type": "code",
   "execution_count": 2,
   "id": "45e9e96a",
   "metadata": {},
   "outputs": [],
   "source": [
    "Pokemon = pd.read_csv(\"Pokemon.csv\", sep=\";\")"
   ]
  },
  {
   "cell_type": "code",
   "execution_count": 3,
   "id": "74364c80",
   "metadata": {},
   "outputs": [
    {
     "data": {
      "text/html": [
       "<div>\n",
       "<style scoped>\n",
       "    .dataframe tbody tr th:only-of-type {\n",
       "        vertical-align: middle;\n",
       "    }\n",
       "\n",
       "    .dataframe tbody tr th {\n",
       "        vertical-align: top;\n",
       "    }\n",
       "\n",
       "    .dataframe thead th {\n",
       "        text-align: right;\n",
       "    }\n",
       "</style>\n",
       "<table border=\"1\" class=\"dataframe\">\n",
       "  <thead>\n",
       "    <tr style=\"text-align: right;\">\n",
       "      <th></th>\n",
       "      <th>abilities</th>\n",
       "      <th>attack</th>\n",
       "      <th>capture_rate</th>\n",
       "      <th>classfication</th>\n",
       "      <th>defense</th>\n",
       "      <th>experience_growth</th>\n",
       "      <th>height_m</th>\n",
       "      <th>hp</th>\n",
       "      <th>name</th>\n",
       "      <th>percentage_male</th>\n",
       "      <th>pokedex_number</th>\n",
       "      <th>sp_attack</th>\n",
       "      <th>sp_defense</th>\n",
       "      <th>speed</th>\n",
       "      <th>type1</th>\n",
       "      <th>type2</th>\n",
       "      <th>weight_kg</th>\n",
       "      <th>generation</th>\n",
       "      <th>is_legendary</th>\n",
       "    </tr>\n",
       "  </thead>\n",
       "  <tbody>\n",
       "    <tr>\n",
       "      <th>0</th>\n",
       "      <td>['Rock Head', 'Sturdy', 'Sand Veil', 'Magnet P...</td>\n",
       "      <td>80</td>\n",
       "      <td>255.0</td>\n",
       "      <td>Rock Pokémon</td>\n",
       "      <td>100</td>\n",
       "      <td>1059860</td>\n",
       "      <td>0</td>\n",
       "      <td>40</td>\n",
       "      <td>Geodude</td>\n",
       "      <td>50</td>\n",
       "      <td>74</td>\n",
       "      <td>30</td>\n",
       "      <td>30</td>\n",
       "      <td>20</td>\n",
       "      <td>rock</td>\n",
       "      <td>ground</td>\n",
       "      <td>0</td>\n",
       "      <td>1</td>\n",
       "      <td>0</td>\n",
       "    </tr>\n",
       "    <tr>\n",
       "      <th>1</th>\n",
       "      <td>['Stench', 'Sticky Hold', 'Poison Touch', 'Poi...</td>\n",
       "      <td>80</td>\n",
       "      <td>190.0</td>\n",
       "      <td>Sludge Pokémon</td>\n",
       "      <td>50</td>\n",
       "      <td>1000000</td>\n",
       "      <td>0</td>\n",
       "      <td>80</td>\n",
       "      <td>Grimer</td>\n",
       "      <td>50</td>\n",
       "      <td>88</td>\n",
       "      <td>40</td>\n",
       "      <td>50</td>\n",
       "      <td>25</td>\n",
       "      <td>poison</td>\n",
       "      <td>poison</td>\n",
       "      <td>0</td>\n",
       "      <td>1</td>\n",
       "      <td>0</td>\n",
       "    </tr>\n",
       "    <tr>\n",
       "      <th>2</th>\n",
       "      <td>['Rock Head', 'Sturdy', 'Sand Veil', 'Magnet P...</td>\n",
       "      <td>95</td>\n",
       "      <td>120.0</td>\n",
       "      <td>Rock Pokémon</td>\n",
       "      <td>115</td>\n",
       "      <td>1059860</td>\n",
       "      <td>0</td>\n",
       "      <td>55</td>\n",
       "      <td>Graveler</td>\n",
       "      <td>50</td>\n",
       "      <td>75</td>\n",
       "      <td>45</td>\n",
       "      <td>45</td>\n",
       "      <td>35</td>\n",
       "      <td>rock</td>\n",
       "      <td>ground</td>\n",
       "      <td>0</td>\n",
       "      <td>1</td>\n",
       "      <td>0</td>\n",
       "    </tr>\n",
       "    <tr>\n",
       "      <th>3</th>\n",
       "      <td>['Sand Veil', 'Sand Rush', 'Snow Cloak', 'Slus...</td>\n",
       "      <td>75</td>\n",
       "      <td>255.0</td>\n",
       "      <td>Mouse Pokémon</td>\n",
       "      <td>90</td>\n",
       "      <td>1000000</td>\n",
       "      <td>0</td>\n",
       "      <td>50</td>\n",
       "      <td>Sandshrew</td>\n",
       "      <td>50</td>\n",
       "      <td>27</td>\n",
       "      <td>10</td>\n",
       "      <td>35</td>\n",
       "      <td>40</td>\n",
       "      <td>ground</td>\n",
       "      <td>ice</td>\n",
       "      <td>0</td>\n",
       "      <td>1</td>\n",
       "      <td>0</td>\n",
       "    </tr>\n",
       "    <tr>\n",
       "      <th>4</th>\n",
       "      <td>['Chlorophyll', 'Harvest', 'Frisk', 'Harvest']</td>\n",
       "      <td>105</td>\n",
       "      <td>45.0</td>\n",
       "      <td>Coconut Pokémon</td>\n",
       "      <td>85</td>\n",
       "      <td>1250000</td>\n",
       "      <td>0</td>\n",
       "      <td>95</td>\n",
       "      <td>Exeggutor</td>\n",
       "      <td>50</td>\n",
       "      <td>103</td>\n",
       "      <td>125</td>\n",
       "      <td>75</td>\n",
       "      <td>45</td>\n",
       "      <td>grass</td>\n",
       "      <td>psychic</td>\n",
       "      <td>0</td>\n",
       "      <td>1</td>\n",
       "      <td>0</td>\n",
       "    </tr>\n",
       "  </tbody>\n",
       "</table>\n",
       "</div>"
      ],
      "text/plain": [
       "                                           abilities  attack  capture_rate  \\\n",
       "0  ['Rock Head', 'Sturdy', 'Sand Veil', 'Magnet P...      80         255.0   \n",
       "1  ['Stench', 'Sticky Hold', 'Poison Touch', 'Poi...      80         190.0   \n",
       "2  ['Rock Head', 'Sturdy', 'Sand Veil', 'Magnet P...      95         120.0   \n",
       "3  ['Sand Veil', 'Sand Rush', 'Snow Cloak', 'Slus...      75         255.0   \n",
       "4     ['Chlorophyll', 'Harvest', 'Frisk', 'Harvest']     105          45.0   \n",
       "\n",
       "     classfication  defense  experience_growth  height_m  hp       name  \\\n",
       "0     Rock Pokémon      100            1059860         0  40    Geodude   \n",
       "1   Sludge Pokémon       50            1000000         0  80     Grimer   \n",
       "2     Rock Pokémon      115            1059860         0  55   Graveler   \n",
       "3    Mouse Pokémon       90            1000000         0  50  Sandshrew   \n",
       "4  Coconut Pokémon       85            1250000         0  95  Exeggutor   \n",
       "\n",
       "   percentage_male  pokedex_number  sp_attack  sp_defense  speed   type1  \\\n",
       "0               50              74         30          30     20    rock   \n",
       "1               50              88         40          50     25  poison   \n",
       "2               50              75         45          45     35    rock   \n",
       "3               50              27         10          35     40  ground   \n",
       "4               50             103        125          75     45   grass   \n",
       "\n",
       "     type2  weight_kg  generation  is_legendary  \n",
       "0   ground          0           1             0  \n",
       "1   poison          0           1             0  \n",
       "2   ground          0           1             0  \n",
       "3      ice          0           1             0  \n",
       "4  psychic          0           1             0  "
      ]
     },
     "execution_count": 3,
     "metadata": {},
     "output_type": "execute_result"
    }
   ],
   "source": [
    "Pokemon.head()"
   ]
  },
  {
   "cell_type": "markdown",
   "id": "397dfa5f",
   "metadata": {},
   "source": [
    "### Ik verwacht dat er een kleine correlatie zal zijn tussen het type van een pokemon en of deze legendarisch is. Bepaalde type pokemon komen meer voor zoals water, de kans is daarom ook groter wanneer een pokemon water type is dat hij ook legendarisch is. "
   ]
  },
  {
   "cell_type": "code",
   "execution_count": 25,
   "id": "1fbf6f69",
   "metadata": {},
   "outputs": [],
   "source": [
    "PokemonContingencyTable = create_contingency_table(Pokemon, 'type1','is_legendary')"
   ]
  },
  {
   "cell_type": "code",
   "execution_count": 26,
   "id": "48ecc5ba",
   "metadata": {},
   "outputs": [
    {
     "data": {
      "text/plain": [
       "<AxesSubplot:xlabel='is_legendary'>"
      ]
     },
     "execution_count": 26,
     "metadata": {},
     "output_type": "execute_result"
    },
    {
     "data": {
      "image/png": "[encoded data removed]",
      "text/plain": [
       "<Figure size 640x480 with 1 Axes>"
      ]
     },
     "metadata": {},
     "output_type": "display_data"
    }
   ],
   "source": [
    "PokemonContingencyTable.plot(kind='bar')\n"
   ]
  },
  {
   "cell_type": "code",
   "execution_count": 27,
   "id": "4f787490",
   "metadata": {},
   "outputs": [
    {
     "name": "stdout",
     "output_type": "stream",
     "text": [
      "The odds of a correlation between type1 and is_legendary is 99.9999995467418% (Based on a p value of 4.532581978427316e-09).\n",
      "This percentage needs to be at least 95% for a significant correlation.\n"
     ]
    }
   ],
   "source": [
    "check_cat_vs_cat_correlation(Pokemon, 'type1','is_legendary')"
   ]
  },
  {
   "cell_type": "markdown",
   "id": "3a37634b",
   "metadata": {},
   "source": [
    "### Zoals te zien is gaat mijn verwachting op voor de water type pokemon, er zijn er hier veel van en ook relatief veel legendarische pokemon. Mijn verwachtingen zijn incorrect als je kijkt naar andere categorieen, zo zijn er relatief weinig physic type pokemon maar deze zijn wel vaak legendarisch.\n",
    "\n",
    "### Over het algemeen is er correlatie tussen type en is legendarisch maar deze is niet perfect."
   ]
  },
  {
   "cell_type": "code",
   "execution_count": null,
   "id": "64ba75b1",
   "metadata": {},
   "outputs": [],
   "source": []
  }
 ],
 "metadata": {
  "kernelspec": {
   "display_name": "Python 3 (ipykernel)",
   "language": "python",
   "name": "python3"
  },
  "language_info": {
   "codemirror_mode": {
    "name": "ipython",
    "version": 3
   },
   "file_extension": ".py",
   "mimetype": "text/x-python",
   "name": "python",
   "nbconvert_exporter": "python",
   "pygments_lexer": "ipython3",
   "version": "3.9.13"
  }
 },
 "nbformat": 4,
 "nbformat_minor": 5
}
